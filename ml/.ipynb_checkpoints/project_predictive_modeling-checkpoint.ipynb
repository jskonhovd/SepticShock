{
 "cells": [
  {
   "cell_type": "code",
   "execution_count": 9,
   "metadata": {
    "collapsed": false
   },
   "outputs": [],
   "source": [
    "import numpy as np\n",
    "from sklearn.datasets import load_svmlight_file\n",
    "from sklearn.linear_model import LogisticRegression\n",
    "from sklearn.svm import LinearSVC\n",
    "from sklearn.tree import DecisionTreeClassifier\n",
    "from sklearn.metrics import *\n",
    "from sklearn import datasets\n",
    "\n",
    "import utils"
   ]
  },
  {
   "cell_type": "code",
   "execution_count": 2,
   "metadata": {
    "collapsed": true
   },
   "outputs": [],
   "source": [
    "# USE THIS RANDOM STATE FOR ALL OF THE PREDICTIVE MODELS\n",
    "# THE TESTS WILL NEVER PASS\n",
    "RANDOM_STATE = 545510477"
   ]
  },
  {
   "cell_type": "code",
   "execution_count": 3,
   "metadata": {
    "collapsed": true
   },
   "outputs": [],
   "source": [
    "#input: X_train, Y_train and X_test\n",
    "#output: Y_pred\n",
    "def logistic_regression_pred(X_train, Y_train, X_test):\n",
    "    #TODO: train a logistic regression classifier using X_train and Y_train. Use this to predict labels of X_test\n",
    "    #use default params for the classifier\t\n",
    "    \n",
    "    logreg = LogisticRegression(random_state=RANDOM_STATE)\n",
    "    logreg.fit(X_train, Y_train)\n",
    "    Y_pred = logreg.predict(X_test)\n",
    "\n",
    "    \n",
    "    return Y_pred"
   ]
  },
  {
   "cell_type": "code",
   "execution_count": 4,
   "metadata": {
    "collapsed": true
   },
   "outputs": [],
   "source": [
    "#input: X_train, Y_train and X_test\n",
    "#output: Y_pred\n",
    "def svm_pred(X_train, Y_train, X_test):\n",
    "    #TODO:train a SVM classifier using X_train and Y_train. Use this to predict labels of X_test\n",
    "    #use default params for the classifier\n",
    "    C = 1.0\n",
    "    lin_svc = LinearSVC(random_state=RANDOM_STATE)    \n",
    "    lin_svc.fit(X_train,Y_train) \n",
    "    Y_pred = lin_svc.predict(X_test)\n",
    "    return Y_pred"
   ]
  },
  {
   "cell_type": "code",
   "execution_count": 5,
   "metadata": {
    "collapsed": true
   },
   "outputs": [],
   "source": [
    "#input: X_train, Y_train and X_test\n",
    "#output: Y_pred\n",
    "def decisionTree_pred(X_train, Y_train, X_test):\n",
    "    #TODO:train a logistic regression classifier using X_train and Y_train. Use this to predict labels of X_test\n",
    "    #IMPORTANT: use max_depth as 5. Else your test cases might fail.\n",
    "    \n",
    "    clf = DecisionTreeClassifier(random_state=RANDOM_STATE, max_depth=5)\n",
    "    clf.fit(X_train, Y_train)   \n",
    "    Y_pred = clf.predict(X_test)   \n",
    "    return Y_pred"
   ]
  },
  {
   "cell_type": "code",
   "execution_count": 6,
   "metadata": {
    "collapsed": true
   },
   "outputs": [],
   "source": [
    "#input: Y_pred,Y_true\n",
    "#output: accuracy, auc, precision, recall, f1-score\n",
    "def classification_metrics(Y_pred, Y_true):\n",
    "    #TODO: Calculate the above mentioned metrics\n",
    "    #NOTE: It is important to provide the output in the same order\n",
    "    acc = accuracy_score(Y_pred, Y_true)\n",
    "    auc = roc_auc_score(Y_true, Y_pred)\n",
    "    precision = precision_score(Y_true, Y_pred)\n",
    "    recall = recall_score(Y_true, Y_pred)\n",
    "    f1score = f1_score(Y_true, Y_pred)\n",
    "    return acc,auc,precision,recall,f1score"
   ]
  },
  {
   "cell_type": "code",
   "execution_count": 7,
   "metadata": {
    "collapsed": true
   },
   "outputs": [],
   "source": [
    "#input: Name of classifier, predicted labels, actual labels\n",
    "def display_metrics(classifierName,Y_pred,Y_true):\n",
    "    print \"______________________________________________\"\n",
    "    print \"Classifier: \"+classifierName\n",
    "    acc, auc_, precision, recall, f1score = classification_metrics(Y_pred,Y_true)\n",
    "    print \"Accuracy: \"+str(acc)\n",
    "    print \"AUC: \"+str(auc_)\n",
    "    print \"Precision: \"+str(precision)\n",
    "    print \"Recall: \"+str(recall)\n",
    "    print \"F1-score: \"+str(f1score)\n",
    "    print \"______________________________________________\"\n",
    "    print \"\""
   ]
  },
  {
   "cell_type": "code",
   "execution_count": 8,
   "metadata": {
    "collapsed": false
   },
   "outputs": [
    {
     "ename": "NameError",
     "evalue": "global name 'datasets' is not defined",
     "output_type": "error",
     "traceback": [
      "\u001b[0;31m---------------------------------------------------------------------------\u001b[0m",
      "\u001b[0;31mNameError\u001b[0m                                 Traceback (most recent call last)",
      "\u001b[0;32m<ipython-input-8-325518bb702f>\u001b[0m in \u001b[0;36m<module>\u001b[0;34m()\u001b[0m\n\u001b[1;32m     10\u001b[0m \u001b[0;34m\u001b[0m\u001b[0m\n\u001b[1;32m     11\u001b[0m \u001b[0;32mif\u001b[0m \u001b[0m__name__\u001b[0m \u001b[0;34m==\u001b[0m \u001b[0;34m\"__main__\"\u001b[0m\u001b[0;34m:\u001b[0m\u001b[0;34m\u001b[0m\u001b[0m\n\u001b[0;32m---> 12\u001b[0;31m         \u001b[0mmain\u001b[0m\u001b[0;34m(\u001b[0m\u001b[0;34m)\u001b[0m\u001b[0;34m\u001b[0m\u001b[0m\n\u001b[0m",
      "\u001b[0;32m<ipython-input-8-325518bb702f>\u001b[0m in \u001b[0;36mmain\u001b[0;34m()\u001b[0m\n\u001b[1;32m      1\u001b[0m \u001b[0;32mdef\u001b[0m \u001b[0mmain\u001b[0m\u001b[0;34m(\u001b[0m\u001b[0;34m)\u001b[0m\u001b[0;34m:\u001b[0m\u001b[0;34m\u001b[0m\u001b[0m\n\u001b[0;32m----> 2\u001b[0;31m     \u001b[0mx_libsvm\u001b[0m\u001b[0;34m,\u001b[0m\u001b[0my_libsvm\u001b[0m \u001b[0;34m=\u001b[0m \u001b[0mdatasets\u001b[0m\u001b[0;34m.\u001b[0m\u001b[0mload_svmlight_file\u001b[0m\u001b[0;34m(\u001b[0m\u001b[0;34m'spark_output/spambase.libsvm'\u001b[0m\u001b[0;34m)\u001b[0m\u001b[0;34m\u001b[0m\u001b[0m\n\u001b[0m\u001b[1;32m      3\u001b[0m     \u001b[0mX\u001b[0m\u001b[0;34m,\u001b[0m \u001b[0my\u001b[0m \u001b[0;34m=\u001b[0m \u001b[0mshuffle\u001b[0m\u001b[0;34m(\u001b[0m\u001b[0mx_libsvm\u001b[0m\u001b[0;34m.\u001b[0m\u001b[0mtodense\u001b[0m\u001b[0;34m(\u001b[0m\u001b[0;34m)\u001b[0m\u001b[0;34m,\u001b[0m \u001b[0my_libsvm\u001b[0m\u001b[0;34m)\u001b[0m\u001b[0;34m\u001b[0m\u001b[0m\n\u001b[1;32m      4\u001b[0m     \u001b[0moffset\u001b[0m \u001b[0;34m=\u001b[0m \u001b[0mint\u001b[0m\u001b[0;34m(\u001b[0m\u001b[0;36m0.7\u001b[0m\u001b[0;34m*\u001b[0m\u001b[0mlen\u001b[0m\u001b[0;34m(\u001b[0m\u001b[0mX\u001b[0m\u001b[0;34m)\u001b[0m\u001b[0;34m)\u001b[0m\u001b[0;34m\u001b[0m\u001b[0m\n\u001b[1;32m      5\u001b[0m     \u001b[0mX_train\u001b[0m\u001b[0;34m,\u001b[0m \u001b[0my_train\u001b[0m \u001b[0;34m=\u001b[0m \u001b[0mX\u001b[0m\u001b[0;34m[\u001b[0m\u001b[0;34m:\u001b[0m\u001b[0moffset\u001b[0m\u001b[0;34m]\u001b[0m\u001b[0;34m,\u001b[0m \u001b[0my\u001b[0m\u001b[0;34m[\u001b[0m\u001b[0;34m:\u001b[0m\u001b[0moffset\u001b[0m\u001b[0;34m]\u001b[0m\u001b[0;34m\u001b[0m\u001b[0m\n",
      "\u001b[0;31mNameError\u001b[0m: global name 'datasets' is not defined"
     ]
    }
   ],
   "source": [
    "def main():\n",
    "    x_libsvm,y_libsvm = datasets.load_svmlight_file('spark_output/spambase.libsvm')\n",
    "    X, y = shuffle(x_libsvm.todense(), y_libsvm)\n",
    "    offset = int(0.7*len(X))\n",
    "    X_train, y_train = X[:offset], y[:offset]\n",
    "    X_test, y_test = X[offset:], y[offset:]\n",
    "    display_metrics(\"Logistic Regression\",logistic_regression_pred(X_train,Y_train,X_test),Y_test)\n",
    "    display_metrics(\"SVM\",svm_pred(X_train,Y_train,X_test),Y_test)\n",
    "    display_metrics(\"Decision Tree\",decisionTree_pred(X_train,Y_train,X_test),Y_test)\n",
    "\n",
    "if __name__ == \"__main__\":\n",
    "\tmain()"
   ]
  },
  {
   "cell_type": "code",
   "execution_count": null,
   "metadata": {
    "collapsed": true
   },
   "outputs": [],
   "source": [
    "\n"
   ]
  }
 ],
 "metadata": {
  "anaconda-cloud": {},
  "kernelspec": {
   "display_name": "Python 2",
   "language": "python2",
   "name": "python2"
  },
  "language_info": {
   "codemirror_mode": {
    "name": "ipython",
    "version": 2
   },
   "file_extension": ".py",
   "mimetype": "text/x-python",
   "name": "python",
   "nbconvert_exporter": "python",
   "pygments_lexer": "ipython2",
   "version": "2.7.12"
  }
 },
 "nbformat": 4,
 "nbformat_minor": 0
}
