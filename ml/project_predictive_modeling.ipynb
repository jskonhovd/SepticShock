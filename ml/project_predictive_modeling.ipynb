{
 "cells": [
  {
   "cell_type": "code",
   "execution_count": 35,
   "metadata": {
    "collapsed": false
   },
   "outputs": [],
   "source": [
    "import numpy as np\n",
    "from sklearn.datasets import load_svmlight_file\n",
    "from sklearn.linear_model import LogisticRegression\n",
    "from sklearn.svm import LinearSVC\n",
    "from sklearn.tree import DecisionTreeClassifier\n",
    "from sklearn.metrics import *\n",
    "from sklearn import datasets\n",
    "from sklearn.utils import shuffle\n",
    "import utils"
   ]
  },
  {
   "cell_type": "code",
   "execution_count": 28,
   "metadata": {
    "collapsed": true
   },
   "outputs": [],
   "source": [
    "# USE THIS RANDOM STATE FOR ALL OF THE PREDICTIVE MODELS\n",
    "# THE TESTS WILL NEVER PASS\n",
    "RANDOM_STATE = 545510477"
   ]
  },
  {
   "cell_type": "code",
   "execution_count": 29,
   "metadata": {
    "collapsed": true
   },
   "outputs": [],
   "source": [
    "#input: X_train, Y_train and X_test\n",
    "#output: Y_pred\n",
    "def logistic_regression_pred(X_train, Y_train, X_test):\n",
    "    #TODO: train a logistic regression classifier using X_train and Y_train. Use this to predict labels of X_test\n",
    "    #use default params for the classifier\t\n",
    "    \n",
    "    logreg = LogisticRegression(random_state=RANDOM_STATE)\n",
    "    logreg.fit(X_train, Y_train)\n",
    "    Y_pred = logreg.predict(X_test)\n",
    "\n",
    "    \n",
    "    return Y_pred"
   ]
  },
  {
   "cell_type": "code",
   "execution_count": 30,
   "metadata": {
    "collapsed": true
   },
   "outputs": [],
   "source": [
    "#input: X_train, Y_train and X_test\n",
    "#output: Y_pred\n",
    "def svm_pred(X_train, Y_train, X_test):\n",
    "    #TODO:train a SVM classifier using X_train and Y_train. Use this to predict labels of X_test\n",
    "    #use default params for the classifier\n",
    "    C = 1.0\n",
    "    lin_svc = LinearSVC(random_state=RANDOM_STATE)    \n",
    "    lin_svc.fit(X_train,Y_train) \n",
    "    Y_pred = lin_svc.predict(X_test)\n",
    "    return Y_pred"
   ]
  },
  {
   "cell_type": "code",
   "execution_count": 31,
   "metadata": {
    "collapsed": true
   },
   "outputs": [],
   "source": [
    "#input: X_train, Y_train and X_test\n",
    "#output: Y_pred\n",
    "def decisionTree_pred(X_train, Y_train, X_test):\n",
    "    #TODO:train a logistic regression classifier using X_train and Y_train. Use this to predict labels of X_test\n",
    "    #IMPORTANT: use max_depth as 5. Else your test cases might fail.\n",
    "    \n",
    "    clf = DecisionTreeClassifier(random_state=RANDOM_STATE, max_depth=5)\n",
    "    clf.fit(X_train, Y_train)   \n",
    "    Y_pred = clf.predict(X_test)   \n",
    "    return Y_pred"
   ]
  },
  {
   "cell_type": "code",
   "execution_count": 32,
   "metadata": {
    "collapsed": true
   },
   "outputs": [],
   "source": [
    "#input: Y_pred,Y_true\n",
    "#output: accuracy, auc, precision, recall, f1-score\n",
    "def classification_metrics(Y_pred, Y_true):\n",
    "    #TODO: Calculate the above mentioned metrics\n",
    "    #NOTE: It is important to provide the output in the same order\n",
    "    acc = accuracy_score(Y_pred, Y_true)\n",
    "    auc = roc_auc_score(Y_true, Y_pred)\n",
    "    precision = precision_score(Y_true, Y_pred)\n",
    "    recall = recall_score(Y_true, Y_pred)\n",
    "    f1score = f1_score(Y_true, Y_pred)\n",
    "    return acc,auc,precision,recall,f1score"
   ]
  },
  {
   "cell_type": "code",
   "execution_count": 33,
   "metadata": {
    "collapsed": true
   },
   "outputs": [],
   "source": [
    "#input: Name of classifier, predicted labels, actual labels\n",
    "def display_metrics(classifierName,Y_pred,Y_true):\n",
    "    print \"______________________________________________\"\n",
    "    print \"Classifier: \"+classifierName\n",
    "    acc, auc_, precision, recall, f1score = classification_metrics(Y_pred,Y_true)\n",
    "    print \"Accuracy: \"+str(acc)\n",
    "    print \"AUC: \"+str(auc_)\n",
    "    print \"Precision: \"+str(precision)\n",
    "    print \"Recall: \"+str(recall)\n",
    "    print \"F1-score: \"+str(f1score)\n",
    "    print \"______________________________________________\"\n",
    "    print \"\""
   ]
  },
  {
   "cell_type": "code",
   "execution_count": 36,
   "metadata": {
    "collapsed": false
   },
   "outputs": [
    {
     "name": "stdout",
     "output_type": "stream",
     "text": [
      "______________________________________________\n",
      "Classifier: Logistic Regression\n",
      "Accuracy: 0.906643814901\n",
      "AUC: 0.521382666069\n",
      "Precision: 0.632352941176\n",
      "Recall: 0.0455508474576\n",
      "F1-score: 0.0849802371542\n",
      "______________________________________________\n",
      "\n",
      "______________________________________________\n",
      "Classifier: SVM\n",
      "Accuracy: 0.905434015526\n",
      "AUC: 0.505073768944\n",
      "Precision: 0.714285714286\n",
      "Recall: 0.010593220339\n",
      "F1-score: 0.0208768267223\n",
      "______________________________________________\n",
      "\n",
      "______________________________________________\n",
      "Classifier: Decision Tree\n",
      "Accuracy: 0.908256880734\n",
      "AUC: 0.533174897314\n",
      "Precision: 0.673469387755\n",
      "Recall: 0.0699152542373\n",
      "F1-score: 0.126679462572\n",
      "______________________________________________\n",
      "\n"
     ]
    }
   ],
   "source": [
    "def main():\n",
    "    x_libsvm,y_libsvm = datasets.load_svmlight_file('spark_output/scaled_target_vector.libsvm')\n",
    "    X, y = shuffle(x_libsvm.todense(), y_libsvm)\n",
    "    offset = int(0.7*len(X))\n",
    "    X_train, Y_train = X[:offset], y[:offset]\n",
    "    X_test, Y_test = X[offset:], y[offset:]\n",
    "    display_metrics(\"Logistic Regression\",logistic_regression_pred(X_train,Y_train,X_test),Y_test)\n",
    "    display_metrics(\"SVM\",svm_pred(X_train,Y_train,X_test),Y_test)\n",
    "    display_metrics(\"Decision Tree\",decisionTree_pred(X_train,Y_train,X_test),Y_test)\n",
    "\n",
    "if __name__ == \"__main__\":\n",
    "\tmain()"
   ]
  },
  {
   "cell_type": "code",
   "execution_count": null,
   "metadata": {
    "collapsed": true
   },
   "outputs": [],
   "source": [
    "\n"
   ]
  }
 ],
 "metadata": {
  "anaconda-cloud": {},
  "kernelspec": {
   "display_name": "Python 2",
   "language": "python2",
   "name": "python2"
  },
  "language_info": {
   "codemirror_mode": {
    "name": "ipython",
    "version": 2
   },
   "file_extension": ".py",
   "mimetype": "text/x-python",
   "name": "python",
   "nbconvert_exporter": "python",
   "pygments_lexer": "ipython2",
   "version": "2.7.12"
  }
 },
 "nbformat": 4,
 "nbformat_minor": 0
}
